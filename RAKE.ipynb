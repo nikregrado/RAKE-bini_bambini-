{
 "cells": [
  {
   "cell_type": "code",
   "execution_count": 122,
   "metadata": {},
   "outputs": [],
   "source": [
    "import RAKE\n",
    "import operator\n",
    "\n",
    "import speech_recognition as sr"
   ]
  },
  {
   "cell_type": "markdown",
   "metadata": {},
   "source": [
    "Для распознования речи с видео(http://youtube.com/watch?v=M6vqfFPvpm8), будет использоваться библиотека RAKE, которая является реализацией алгоритма RAKE - Rapid Automatic Keyword Extraction, является независимым от домена алгоритмом извлечения ключевых слов, который пытается определить ключевые фразы в тексте, анализируя частоту появления слова и его совпадение с другими словами в тексте. А для распознавания речи будет исползован модуль speech_recognition, который предоставляет доступ к разным speech to text движкам. speech_recognition требует файлы в формате wav, поэтому я заблаговременно перевел видео в wav, тем самым перевел его в аудиодорожку. Ну а дальше я думаю по коду можно понять что происходит"
   ]
  },
  {
   "cell_type": "code",
   "execution_count": 123,
   "metadata": {
    "scrolled": true
   },
   "outputs": [
    {
     "name": "stdout",
     "output_type": "stream",
     "text": [
      "<class 'str'>\n"
     ]
    }
   ],
   "source": [
    "r = sr.Recognizer()\n",
    "with sr.AudioFile('audio.wav') as source:\n",
    "    audio = r.record(source)\n",
    "\n",
    "text = r.recognize_google(audio)\n",
    "print(type(text))"
   ]
  },
  {
   "cell_type": "code",
   "execution_count": 125,
   "metadata": {},
   "outputs": [],
   "source": [
    "stop_dir = \"SmartStoplist.txt\"\n",
    "rake_object = RAKE.Rake(stop_dir)"
   ]
  },
  {
   "cell_type": "code",
   "execution_count": 128,
   "metadata": {},
   "outputs": [
    {
     "name": "stdout",
     "output_type": "stream",
     "text": [
      "[('central southern england cloud spilling', 17.333333333333336), ('heavy rain strong winds', 10.735714285714284), ('rain gradually intensifies', 8.285714285714285), ('clouds slowly thickening', 8.0), ('raining eventually arrive', 8.0), ('low pressure tracking', 8.0), ('weather slowly improved', 7.916666666666666), ('northern ireland wanted', 7.666666666666666), ('thursday morning forecast', 7.5), ('scotland share rebirth', 7.333333333333333)]\n"
     ]
    }
   ],
   "source": [
    "keyw = rake_object.run(text)\n",
    "print(keyw[:10])"
   ]
  }
 ],
 "metadata": {
  "kernelspec": {
   "display_name": "Python 3",
   "language": "python",
   "name": "python3"
  },
  "language_info": {
   "codemirror_mode": {
    "name": "ipython",
    "version": 3
   },
   "file_extension": ".py",
   "mimetype": "text/x-python",
   "name": "python",
   "nbconvert_exporter": "python",
   "pygments_lexer": "ipython3",
   "version": "3.7.3"
  }
 },
 "nbformat": 4,
 "nbformat_minor": 2
}
